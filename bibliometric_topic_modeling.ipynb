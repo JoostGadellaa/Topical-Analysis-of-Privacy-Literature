{
 "cells": [
  {
   "cell_type": "markdown",
   "metadata": {
    "id": "E64QVb3q3pDX"
   },
   "source": [
    "Install and import library modules. Download English stopwords and WordNet. Set logging to INFO"
   ]
  },
  {
   "cell_type": "code",
   "execution_count": 1,
   "metadata": {
    "colab": {
     "base_uri": "https://localhost:8080/"
    },
    "id": "-hl1Pyqi2WeK",
    "outputId": "505681b2-eb84-40cb-dc3d-af42e4fe5fbb",
    "scrolled": true
   },
   "outputs": [
    {
     "name": "stdout",
     "output_type": "stream",
     "text": [
      "Requirement already satisfied: gensim in /usr/local/Cellar/jupyterlab/2.1.2/libexec/lib/python3.8/site-packages (3.8.3)\n",
      "Requirement already satisfied: smart-open>=1.8.1 in /usr/local/Cellar/jupyterlab/2.1.2/libexec/lib/python3.8/site-packages (from gensim) (4.0.1)\n",
      "Requirement already satisfied: numpy>=1.11.3 in /usr/local/Cellar/jupyterlab/2.1.2/libexec/lib/python3.8/site-packages (from gensim) (1.19.2)\n",
      "Requirement already satisfied: scipy>=0.18.1 in /usr/local/Cellar/jupyterlab/2.1.2/libexec/lib/python3.8/site-packages (from gensim) (1.5.2)\n",
      "Requirement already satisfied: six>=1.5.0 in /usr/local/Cellar/jupyterlab/2.1.2/libexec/lib/python3.8/site-packages (from gensim) (1.14.0)\n",
      "\u001b[33mWARNING: You are using pip version 20.3.3; however, version 21.1.3 is available.\n",
      "You should consider upgrading via the '/usr/local/Cellar/jupyterlab/2.1.2/libexec/bin/python3.8 -m pip install --upgrade pip' command.\u001b[0m\n",
      "Requirement already satisfied: pyLDAvis in /usr/local/Cellar/jupyterlab/2.1.2/libexec/lib/python3.8/site-packages (2.1.2)\n",
      "Requirement already satisfied: scipy>=0.18.0 in /usr/local/Cellar/jupyterlab/2.1.2/libexec/lib/python3.8/site-packages (from pyLDAvis) (1.5.2)\n",
      "Requirement already satisfied: pytest in /usr/local/Cellar/jupyterlab/2.1.2/libexec/lib/python3.8/site-packages (from pyLDAvis) (6.2.1)\n",
      "Requirement already satisfied: future in /usr/local/Cellar/jupyterlab/2.1.2/libexec/lib/python3.8/site-packages (from pyLDAvis) (0.18.2)\n",
      "Requirement already satisfied: wheel>=0.23.0 in /usr/local/Cellar/jupyterlab/2.1.2/libexec/lib/python3.8/site-packages (from pyLDAvis) (0.34.2)\n",
      "Requirement already satisfied: numexpr in /usr/local/Cellar/jupyterlab/2.1.2/libexec/lib/python3.8/site-packages (from pyLDAvis) (2.7.2)\n",
      "Requirement already satisfied: pandas>=0.17.0 in /usr/local/Cellar/jupyterlab/2.1.2/libexec/lib/python3.8/site-packages (from pyLDAvis) (1.1.2)\n",
      "Requirement already satisfied: joblib>=0.8.4 in /usr/local/Cellar/jupyterlab/2.1.2/libexec/lib/python3.8/site-packages (from pyLDAvis) (0.16.0)\n",
      "Requirement already satisfied: jinja2>=2.7.2 in /usr/local/Cellar/jupyterlab/2.1.2/libexec/lib/python3.8/site-packages (from pyLDAvis) (2.11.2)\n",
      "Requirement already satisfied: numpy>=1.9.2 in /usr/local/Cellar/jupyterlab/2.1.2/libexec/lib/python3.8/site-packages (from pyLDAvis) (1.19.2)\n",
      "Requirement already satisfied: funcy in /usr/local/Cellar/jupyterlab/2.1.2/libexec/lib/python3.8/site-packages (from pyLDAvis) (1.15)\n",
      "Requirement already satisfied: MarkupSafe>=0.23 in /usr/local/Cellar/jupyterlab/2.1.2/libexec/lib/python3.8/site-packages (from jinja2>=2.7.2->pyLDAvis) (1.1.1)\n",
      "Requirement already satisfied: python-dateutil>=2.7.3 in /usr/local/Cellar/jupyterlab/2.1.2/libexec/lib/python3.8/site-packages (from pandas>=0.17.0->pyLDAvis) (2.8.1)\n",
      "Requirement already satisfied: pytz>=2017.2 in /usr/local/Cellar/jupyterlab/2.1.2/libexec/lib/python3.8/site-packages (from pandas>=0.17.0->pyLDAvis) (2020.1)\n",
      "Requirement already satisfied: six>=1.5 in /usr/local/Cellar/jupyterlab/2.1.2/libexec/lib/python3.8/site-packages (from python-dateutil>=2.7.3->pandas>=0.17.0->pyLDAvis) (1.14.0)\n",
      "Requirement already satisfied: packaging in /usr/local/Cellar/jupyterlab/2.1.2/libexec/lib/python3.8/site-packages (from pytest->pyLDAvis) (20.7)\n",
      "Requirement already satisfied: py>=1.8.2 in /usr/local/Cellar/jupyterlab/2.1.2/libexec/lib/python3.8/site-packages (from pytest->pyLDAvis) (1.10.0)\n",
      "Requirement already satisfied: toml in /usr/local/Cellar/jupyterlab/2.1.2/libexec/lib/python3.8/site-packages (from pytest->pyLDAvis) (0.10.2)\n",
      "Requirement already satisfied: attrs>=19.2.0 in /usr/local/Cellar/jupyterlab/2.1.2/libexec/lib/python3.8/site-packages (from pytest->pyLDAvis) (19.3.0)\n",
      "Requirement already satisfied: iniconfig in /usr/local/Cellar/jupyterlab/2.1.2/libexec/lib/python3.8/site-packages (from pytest->pyLDAvis) (1.1.1)\n",
      "Requirement already satisfied: pluggy<1.0.0a1,>=0.12 in /usr/local/Cellar/jupyterlab/2.1.2/libexec/lib/python3.8/site-packages (from pytest->pyLDAvis) (0.13.1)\n",
      "Requirement already satisfied: pyparsing>=2.0.2 in /usr/local/Cellar/jupyterlab/2.1.2/libexec/lib/python3.8/site-packages (from packaging->pytest->pyLDAvis) (2.4.7)\n",
      "\u001b[33mWARNING: You are using pip version 20.3.3; however, version 21.1.3 is available.\n",
      "You should consider upgrading via the '/usr/local/Cellar/jupyterlab/2.1.2/libexec/bin/python3.8 -m pip install --upgrade pip' command.\u001b[0m\n",
      "Requirement already satisfied: pandas in /usr/local/Cellar/jupyterlab/2.1.2/libexec/lib/python3.8/site-packages (1.1.2)\n",
      "Requirement already satisfied: pytz>=2017.2 in /usr/local/Cellar/jupyterlab/2.1.2/libexec/lib/python3.8/site-packages (from pandas) (2020.1)\n",
      "Requirement already satisfied: python-dateutil>=2.7.3 in /usr/local/Cellar/jupyterlab/2.1.2/libexec/lib/python3.8/site-packages (from pandas) (2.8.1)\n",
      "Requirement already satisfied: numpy>=1.15.4 in /usr/local/Cellar/jupyterlab/2.1.2/libexec/lib/python3.8/site-packages (from pandas) (1.19.2)\n",
      "Requirement already satisfied: six>=1.5 in /usr/local/Cellar/jupyterlab/2.1.2/libexec/lib/python3.8/site-packages (from python-dateutil>=2.7.3->pandas) (1.14.0)\n",
      "\u001b[33mWARNING: You are using pip version 20.3.3; however, version 21.1.3 is available.\n",
      "You should consider upgrading via the '/usr/local/Cellar/jupyterlab/2.1.2/libexec/bin/python3.8 -m pip install --upgrade pip' command.\u001b[0m\n",
      "Requirement already satisfied: numpy in /usr/local/Cellar/jupyterlab/2.1.2/libexec/lib/python3.8/site-packages (1.19.2)\n",
      "\u001b[33mWARNING: You are using pip version 20.3.3; however, version 21.1.3 is available.\n",
      "You should consider upgrading via the '/usr/local/Cellar/jupyterlab/2.1.2/libexec/bin/python3.8 -m pip install --upgrade pip' command.\u001b[0m\n",
      "Requirement already satisfied: matplotlib in /usr/local/Cellar/jupyterlab/2.1.2/libexec/lib/python3.8/site-packages (3.3.2)\n",
      "Requirement already satisfied: pillow>=6.2.0 in /usr/local/Cellar/jupyterlab/2.1.2/libexec/lib/python3.8/site-packages (from matplotlib) (7.2.0)\n",
      "Requirement already satisfied: certifi>=2020.06.20 in /usr/local/Cellar/jupyterlab/2.1.2/libexec/lib/python3.8/site-packages (from matplotlib) (2020.6.20)\n",
      "Requirement already satisfied: pyparsing!=2.0.4,!=2.1.2,!=2.1.6,>=2.0.3 in /usr/local/Cellar/jupyterlab/2.1.2/libexec/lib/python3.8/site-packages (from matplotlib) (2.4.7)\n",
      "Requirement already satisfied: kiwisolver>=1.0.1 in /usr/local/Cellar/jupyterlab/2.1.2/libexec/lib/python3.8/site-packages (from matplotlib) (1.2.0)\n",
      "Requirement already satisfied: cycler>=0.10 in /usr/local/Cellar/jupyterlab/2.1.2/libexec/lib/python3.8/site-packages (from matplotlib) (0.10.0)\n",
      "Requirement already satisfied: python-dateutil>=2.1 in /usr/local/Cellar/jupyterlab/2.1.2/libexec/lib/python3.8/site-packages (from matplotlib) (2.8.1)\n",
      "Requirement already satisfied: numpy>=1.15 in /usr/local/Cellar/jupyterlab/2.1.2/libexec/lib/python3.8/site-packages (from matplotlib) (1.19.2)\n",
      "Requirement already satisfied: six in /usr/local/Cellar/jupyterlab/2.1.2/libexec/lib/python3.8/site-packages (from cycler>=0.10->matplotlib) (1.14.0)\n",
      "\u001b[33mWARNING: You are using pip version 20.3.3; however, version 21.1.3 is available.\n",
      "You should consider upgrading via the '/usr/local/Cellar/jupyterlab/2.1.2/libexec/bin/python3.8 -m pip install --upgrade pip' command.\u001b[0m\n",
      "Requirement already satisfied: nltk in /usr/local/Cellar/jupyterlab/2.1.2/libexec/lib/python3.8/site-packages (3.5)\n",
      "Requirement already satisfied: click in /usr/local/Cellar/jupyterlab/2.1.2/libexec/lib/python3.8/site-packages (from nltk) (7.1.2)\n",
      "Requirement already satisfied: tqdm in /usr/local/Cellar/jupyterlab/2.1.2/libexec/lib/python3.8/site-packages (from nltk) (4.54.0)\n",
      "Requirement already satisfied: regex in /usr/local/Cellar/jupyterlab/2.1.2/libexec/lib/python3.8/site-packages (from nltk) (2020.11.13)\n",
      "Requirement already satisfied: joblib in /usr/local/Cellar/jupyterlab/2.1.2/libexec/lib/python3.8/site-packages (from nltk) (0.16.0)\n",
      "\u001b[33mWARNING: You are using pip version 20.3.3; however, version 21.1.3 is available.\n",
      "You should consider upgrading via the '/usr/local/Cellar/jupyterlab/2.1.2/libexec/bin/python3.8 -m pip install --upgrade pip' command.\u001b[0m\n"
     ]
    },
    {
     "name": "stderr",
     "output_type": "stream",
     "text": [
      "[nltk_data] Downloading package stopwords to /Users/joost/nltk_data...\n",
      "[nltk_data]   Package stopwords is already up-to-date!\n",
      "[nltk_data] Downloading package wordnet to /Users/joost/nltk_data...\n",
      "[nltk_data]   Package wordnet is already up-to-date!\n"
     ]
    }
   ],
   "source": [
    "import sys\n",
    "!{sys.executable} -m pip install gensim\n",
    "!{sys.executable} -m pip install pyLDAvis\n",
    "!{sys.executable} -m pip install pandas\n",
    "!{sys.executable} -m pip install numpy\n",
    "!{sys.executable} -m pip install matplotlib\n",
    "!{sys.executable} -m pip install nltk\n",
    "\n",
    "import re, gensim, pyLDAvis, logging, datetime, multiprocessing, os, pickle\n",
    "import pandas as pd\n",
    "import numpy as np\n",
    "import matplotlib.pyplot as plt\n",
    "from math import floor, ceil\n",
    "from nltk.corpus import stopwords\n",
    "from nltk import download\n",
    "from nltk.stem import WordNetLemmatizer\n",
    "\n",
    "download('stopwords')\n",
    "download('wordnet')\n",
    "\n",
    "logging.basicConfig(format='%(asctime)s : %(levelname)s : %(message)s', level=logging.INFO)"
   ]
  },
  {
   "cell_type": "markdown",
   "metadata": {},
   "source": [
    "Read the data as pandas dataframe, remove items with missing abstracts, and fill other missing data with empty strings"
   ]
  },
  {
   "cell_type": "code",
   "execution_count": 2,
   "metadata": {
    "colab": {
     "base_uri": "https://localhost:8080/"
    },
    "id": "kTYs7ND53iEL",
    "outputId": "6840fdf0-09ac-4a57-ace1-c33c7f964926"
   },
   "outputs": [],
   "source": [
    "df = pd.read_csv('data/data_merged_and_filtered.csv')\n",
    "df = df[df['abstract'].notna()]\n",
    "df.fillna(\"\", inplace=True)"
   ]
  },
  {
   "cell_type": "markdown",
   "metadata": {},
   "source": [
    "Combine the text fiels into one"
   ]
  },
  {
   "cell_type": "code",
   "execution_count": 3,
   "metadata": {
    "id": "dhV7-XfC6LSC",
    "scrolled": false
   },
   "outputs": [
    {
     "name": "stderr",
     "output_type": "stream",
     "text": [
      "2021-07-18 19:57:10,824 : INFO : NumExpr defaulting to 8 threads.\n"
     ]
    }
   ],
   "source": [
    "df[\"data\"] = df[\"abstract\"] + \" \" + df[\"keywords\"] + \" \" + df[\"title\"]"
   ]
  },
  {
   "cell_type": "markdown",
   "metadata": {},
   "source": [
    "Remove copyright notices from the text"
   ]
  },
  {
   "cell_type": "code",
   "execution_count": 4,
   "metadata": {
    "id": "tOkh2Nlc4Mbf"
   },
   "outputs": [],
   "source": [
    "copyright_re = \"(©|&#x00A9;|Copyright)(.*?(?=B\\\\.V\\\\.|Ltd|\\\\.))(B\\\\.V\\\\.|Ltd|\\\\.)\"\n",
    "rights = \"All rights reserved.\"\n",
    "df.replace(copyright_re, '', regex=True, inplace=True)\n",
    "df.replace(rights, '', regex=False, inplace=True)"
   ]
  },
  {
   "cell_type": "markdown",
   "metadata": {
    "id": "rZbCoBCTBP5G"
   },
   "source": [
    "Tokenize, convert to lowercase, remove punctuation, remove stop-words, lemmatize"
   ]
  },
  {
   "cell_type": "code",
   "execution_count": 5,
   "metadata": {
    "scrolled": false
   },
   "outputs": [],
   "source": [
    "def preprocess(text):\n",
    "  result = [word for word in gensim.utils.simple_preprocess(text, deacc=True) if word not in stop_words]\n",
    "  wordnet_lemmatizer = WordNetLemmatizer()\n",
    "  result = [wordnet_lemmatizer.lemmatize(word) for word in result]\n",
    "  return result\n",
    "\n",
    "stop_words = stopwords.words('english')\n",
    "df[\"data_preprocessed\"] = df[\"data\"].map(preprocess)"
   ]
  },
  {
   "cell_type": "markdown",
   "metadata": {},
   "source": [
    "Generate the Dictionairy and perform relative pruning"
   ]
  },
  {
   "cell_type": "code",
   "execution_count": 6,
   "metadata": {
    "scrolled": true
   },
   "outputs": [
    {
     "name": "stderr",
     "output_type": "stream",
     "text": [
      "2021-07-18 19:59:49,600 : INFO : adding document #0 to Dictionary(0 unique tokens: [])\n",
      "2021-07-18 19:59:51,356 : INFO : adding document #10000 to Dictionary(27074 unique tokens: ['ability', 'acceptable', 'additionally', 'analysis', 'anti']...)\n",
      "2021-07-18 19:59:52,991 : INFO : adding document #20000 to Dictionary(38089 unique tokens: ['ability', 'acceptable', 'additionally', 'analysis', 'anti']...)\n",
      "2021-07-18 19:59:54,538 : INFO : adding document #30000 to Dictionary(46717 unique tokens: ['ability', 'acceptable', 'additionally', 'analysis', 'anti']...)\n",
      "2021-07-18 19:59:56,098 : INFO : adding document #40000 to Dictionary(53696 unique tokens: ['ability', 'acceptable', 'additionally', 'analysis', 'anti']...)\n",
      "2021-07-18 19:59:57,589 : INFO : adding document #50000 to Dictionary(59648 unique tokens: ['ability', 'acceptable', 'additionally', 'analysis', 'anti']...)\n",
      "2021-07-18 19:59:59,102 : INFO : adding document #60000 to Dictionary(64997 unique tokens: ['ability', 'acceptable', 'additionally', 'analysis', 'anti']...)\n",
      "2021-07-18 20:00:00,557 : INFO : adding document #70000 to Dictionary(70041 unique tokens: ['ability', 'acceptable', 'additionally', 'analysis', 'anti']...)\n",
      "2021-07-18 20:00:01,799 : INFO : built Dictionary(75148 unique tokens: ['ability', 'acceptable', 'additionally', 'analysis', 'anti']...) from 79433 documents (total 9349837 corpus positions)\n",
      "2021-07-18 20:00:02,154 : INFO : discarding 72727 tokens: [('competent', 111), ('conceal', 295), ('conceals', 59), ('curtail', 30), ('db', 204), ('ee', 34), ('embed', 297), ('excellent', 301), ('histogram', 277), ('hyper', 79)]...\n",
      "2021-07-18 20:00:02,155 : INFO : keeping 2421 tokens which were in no less than 397 and no more than 78638 (=99.0%) documents\n",
      "2021-07-18 20:00:02,187 : INFO : resulting dictionary: Dictionary(2421 unique tokens: ['ability', 'acceptable', 'additionally', 'analysis', 'anti']...)\n"
     ]
    }
   ],
   "source": [
    "dictionary = gensim.corpora.Dictionary(df[\"data_preprocessed\"])\n",
    "dictionary.filter_extremes(no_below=(floor(0.005 * len(df))), no_above=0.99)"
   ]
  },
  {
   "cell_type": "markdown",
   "metadata": {},
   "source": [
    "Make the bag of words"
   ]
  },
  {
   "cell_type": "code",
   "execution_count": 7,
   "metadata": {},
   "outputs": [],
   "source": [
    "corpus = [dictionary.doc2bow(doc) for doc in df[\"data_preprocessed\"]]"
   ]
  },
  {
   "cell_type": "markdown",
   "metadata": {},
   "source": [
    "Generate all models for evaluation"
   ]
  },
  {
   "cell_type": "code",
   "execution_count": null,
   "metadata": {
    "colab": {
     "base_uri": "https://localhost:8080/",
     "height": 1000
    },
    "id": "juzFGaeamQSN",
    "outputId": "03cb29ac-d423-4e56-a1c2-ed53f08f38e4",
    "scrolled": true
   },
   "outputs": [
    {
     "name": "stderr",
     "output_type": "stream",
     "text": [
      "2021-07-18 22:42:43,370 : INFO : using autotuned alpha, starting with [0.0034602077, 0.0034602077, 0.0034602077, 0.0034602077, 0.0034602077, 0.0034602077, 0.0034602077, 0.0034602077, 0.0034602077, 0.0034602077, 0.0034602077, 0.0034602077, 0.0034602077, 0.0034602077, 0.0034602077, 0.0034602077, 0.0034602077, 0.0034602077, 0.0034602077, 0.0034602077, 0.0034602077, 0.0034602077, 0.0034602077, 0.0034602077, 0.0034602077, 0.0034602077, 0.0034602077, 0.0034602077, 0.0034602077, 0.0034602077, 0.0034602077, 0.0034602077, 0.0034602077, 0.0034602077, 0.0034602077, 0.0034602077, 0.0034602077, 0.0034602077, 0.0034602077, 0.0034602077, 0.0034602077, 0.0034602077, 0.0034602077, 0.0034602077, 0.0034602077, 0.0034602077, 0.0034602077, 0.0034602077, 0.0034602077, 0.0034602077, 0.0034602077, 0.0034602077, 0.0034602077, 0.0034602077, 0.0034602077, 0.0034602077, 0.0034602077, 0.0034602077, 0.0034602077, 0.0034602077, 0.0034602077, 0.0034602077, 0.0034602077, 0.0034602077, 0.0034602077, 0.0034602077, 0.0034602077, 0.0034602077, 0.0034602077, 0.0034602077, 0.0034602077, 0.0034602077, 0.0034602077, 0.0034602077, 0.0034602077, 0.0034602077, 0.0034602077, 0.0034602077, 0.0034602077, 0.0034602077, 0.0034602077, 0.0034602077, 0.0034602077, 0.0034602077, 0.0034602077, 0.0034602077, 0.0034602077, 0.0034602077, 0.0034602077, 0.0034602077, 0.0034602077, 0.0034602077, 0.0034602077, 0.0034602077, 0.0034602077, 0.0034602077, 0.0034602077, 0.0034602077, 0.0034602077, 0.0034602077, 0.0034602077, 0.0034602077, 0.0034602077, 0.0034602077, 0.0034602077, 0.0034602077, 0.0034602077, 0.0034602077, 0.0034602077, 0.0034602077, 0.0034602077, 0.0034602077, 0.0034602077, 0.0034602077, 0.0034602077, 0.0034602077, 0.0034602077, 0.0034602077, 0.0034602077, 0.0034602077, 0.0034602077, 0.0034602077, 0.0034602077, 0.0034602077, 0.0034602077, 0.0034602077, 0.0034602077, 0.0034602077, 0.0034602077, 0.0034602077, 0.0034602077, 0.0034602077, 0.0034602077, 0.0034602077, 0.0034602077, 0.0034602077, 0.0034602077, 0.0034602077, 0.0034602077, 0.0034602077, 0.0034602077, 0.0034602077, 0.0034602077, 0.0034602077, 0.0034602077, 0.0034602077, 0.0034602077, 0.0034602077, 0.0034602077, 0.0034602077, 0.0034602077, 0.0034602077, 0.0034602077, 0.0034602077, 0.0034602077, 0.0034602077, 0.0034602077, 0.0034602077, 0.0034602077, 0.0034602077, 0.0034602077, 0.0034602077, 0.0034602077, 0.0034602077, 0.0034602077, 0.0034602077, 0.0034602077, 0.0034602077, 0.0034602077, 0.0034602077, 0.0034602077, 0.0034602077, 0.0034602077, 0.0034602077, 0.0034602077, 0.0034602077, 0.0034602077, 0.0034602077, 0.0034602077, 0.0034602077, 0.0034602077, 0.0034602077, 0.0034602077, 0.0034602077, 0.0034602077, 0.0034602077, 0.0034602077, 0.0034602077, 0.0034602077, 0.0034602077, 0.0034602077, 0.0034602077, 0.0034602077, 0.0034602077, 0.0034602077, 0.0034602077, 0.0034602077, 0.0034602077, 0.0034602077, 0.0034602077, 0.0034602077, 0.0034602077, 0.0034602077, 0.0034602077, 0.0034602077, 0.0034602077, 0.0034602077, 0.0034602077, 0.0034602077, 0.0034602077, 0.0034602077, 0.0034602077, 0.0034602077, 0.0034602077, 0.0034602077, 0.0034602077, 0.0034602077, 0.0034602077, 0.0034602077, 0.0034602077, 0.0034602077, 0.0034602077, 0.0034602077, 0.0034602077, 0.0034602077, 0.0034602077, 0.0034602077, 0.0034602077, 0.0034602077, 0.0034602077, 0.0034602077, 0.0034602077, 0.0034602077, 0.0034602077, 0.0034602077, 0.0034602077, 0.0034602077, 0.0034602077, 0.0034602077, 0.0034602077, 0.0034602077, 0.0034602077, 0.0034602077, 0.0034602077, 0.0034602077, 0.0034602077, 0.0034602077, 0.0034602077, 0.0034602077, 0.0034602077, 0.0034602077, 0.0034602077, 0.0034602077, 0.0034602077, 0.0034602077, 0.0034602077, 0.0034602077, 0.0034602077, 0.0034602077, 0.0034602077, 0.0034602077, 0.0034602077, 0.0034602077, 0.0034602077, 0.0034602077, 0.0034602077, 0.0034602077, 0.0034602077, 0.0034602077, 0.0034602077, 0.0034602077, 0.0034602077, 0.0034602077, 0.0034602077, 0.0034602077, 0.0034602077, 0.0034602077, 0.0034602077, 0.0034602077, 0.0034602077, 0.0034602077, 0.0034602077, 0.0034602077, 0.0034602077, 0.0034602077, 0.0034602077, 0.0034602077, 0.0034602077, 0.0034602077]\n",
      "2021-07-18 22:42:43,373 : INFO : using serial LDA version on this node\n",
      "2021-07-18 22:42:43,470 : INFO : running online (multi-pass) LDA training, 289 topics, 20 passes over the supplied corpus of 79433 documents, updating model once every 79433 documents, evaluating perplexity every 79433 documents, iterating 100x with a convergence threshold of 0.001000\n"
     ]
    },
    {
     "name": "stdout",
     "output_type": "stream",
     "text": [
      "22:42:43 Model rs24k1 already in directory. Skipped\n",
      "22:42:43 Model rs24k4 already in directory. Skipped\n",
      "22:42:43 Model rs24k9 already in directory. Skipped\n",
      "22:42:43 Model rs24k16 already in directory. Skipped\n",
      "22:42:43 Model rs24k25 already in directory. Skipped\n",
      "22:42:43 Model rs24k36 already in directory. Skipped\n",
      "22:42:43 Model rs24k49 already in directory. Skipped\n",
      "22:42:43 Model rs24k64 already in directory. Skipped\n",
      "22:42:43 Model rs24k81 already in directory. Skipped\n",
      "22:42:43 Model rs24k100 already in directory. Skipped\n",
      "22:42:43 Model rs24k121 already in directory. Skipped\n",
      "22:42:43 Model rs24k144 already in directory. Skipped\n",
      "22:42:43 Model rs24k169 already in directory. Skipped\n",
      "22:42:43 Model rs24k196 already in directory. Skipped\n",
      "22:42:43 Model rs24k225 already in directory. Skipped\n",
      "22:42:43 Model rs24k256 already in directory. Skipped\n",
      "22:42:43 Building model rs24k289\n"
     ]
    },
    {
     "name": "stderr",
     "output_type": "stream",
     "text": [
      "2021-07-18 22:51:09,146 : INFO : -8.923 per-word bound, 485.4 perplexity estimate based on a held-out corpus of 79433 documents with 7925243 words\n",
      "2021-07-18 22:51:09,147 : INFO : PROGRESS: pass 0, at document #79433/79433\n",
      "2021-07-18 23:01:06,044 : INFO : optimized alpha [0.0034119778, 0.0034170395, 0.0034213378, 0.00342126, 0.0034124872, 0.0034547416, 0.0034179427, 0.003429196, 0.0034399536, 0.0034118043, 0.003413809, 0.0034044646, 0.0034074676, 0.0034098143, 0.0034275514, 0.00341662, 0.0034199606, 0.003415651, 0.0034064562, 0.0034163145, 0.003469709, 0.0034065293, 0.003423617, 0.003422687, 0.0034181576, 0.0034282508, 0.0034115696, 0.0034342317, 0.003414658, 0.003411818, 0.0034523355, 0.0034197296, 0.0034078646, 0.0034270096, 0.0034314278, 0.0034357992, 0.003425862, 0.003417137, 0.003412755, 0.003424819, 0.0034250624, 0.0034085202, 0.0034189723, 0.0034080627, 0.003412198, 0.003411207, 0.0034369293, 0.0034177173, 0.0034190728, 0.0034293546, 0.0034121163, 0.0034168486, 0.0034182598, 0.0034111326, 0.0034231227, 0.0034382257, 0.0034283823, 0.0034239367, 0.0034179792, 0.0034433007, 0.0034751375, 0.0034114432, 0.003434536, 0.003420592, 0.0034229944, 0.0034064306, 0.0034162747, 0.0034086374, 0.003455868, 0.0034283798, 0.0034159517, 0.003407105, 0.0034185613, 0.0034183252, 0.0034134386, 0.0034234643, 0.003414685, 0.003494862, 0.0034143801, 0.00341962, 0.0034253658, 0.0034188593, 0.0034149687, 0.0034250026, 0.0034147953, 0.0034431524, 0.0034091729, 0.0034109799, 0.0034283465, 0.0034104355, 0.0034073608, 0.003420517, 0.0034266054, 0.0034237066, 0.0034304035, 0.0034104139, 0.003440213, 0.0034195632, 0.00342132, 0.0034180172, 0.0034378355, 0.0034120826, 0.0034248703, 0.0034177427, 0.003430142, 0.0034202244, 0.0034377584, 0.00341915, 0.0034139776, 0.003406681, 0.0034139738, 0.003420281, 0.0034169382, 0.0034199338, 0.0034340785, 0.0034310166, 0.0034196852, 0.0034148388, 0.003407268, 0.0034117447, 0.0034545714, 0.0034201955, 0.003411667, 0.0034586508, 0.0034254096, 0.0034218552, 0.0034135748, 0.0034462682, 0.003409506, 0.0034144763, 0.0034357896, 0.00344147, 0.0034145946, 0.0034138565, 0.0034244938, 0.003411372, 0.0034180274, 0.0034083696, 0.0034352117, 0.0034119028, 0.0034196775, 0.0034135496, 0.0034301993, 0.0034271465, 0.003456864, 0.0034249576, 0.0034161175, 0.0034157922, 0.0034624427, 0.0034175853, 0.0034663249, 0.0034182882, 0.0034166584, 0.0034341214, 0.003431268, 0.0034259942, 0.003443142, 0.0034172009, 0.0034119606, 0.003432099, 0.0034107855, 0.0034132511, 0.003423845, 0.0034328287, 0.0034412579, 0.0034198167, 0.0034077438, 0.0034145482, 0.003419251, 0.003449422, 0.0034263742, 0.0034113207, 0.0034306517, 0.0034140542, 0.0034067663, 0.0034263222, 0.003447889, 0.003415229, 0.003419972, 0.0034110637, 0.0034157229, 0.0034715715, 0.003408204, 0.0034178912, 0.0034177739, 0.0034494721, 0.0034727983, 0.00340564, 0.0034260175, 0.0034247236, 0.0034069994, 0.0034218065, 0.00342589, 0.0034474863, 0.0034123447, 0.0034237818, 0.0034425496, 0.003412607, 0.003411221, 0.0034171469, 0.0034127273, 0.0034403051, 0.0034206102, 0.003436652, 0.0034433287, 0.0034279143, 0.0034290294, 0.0034135631, 0.0034408965, 0.0034140567, 0.0034227632, 0.003470929, 0.0034058401, 0.003405715, 0.0034138903, 0.0034350322, 0.0034303425, 0.0034130209, 0.0034672793, 0.003417814, 0.0034356958, 0.003412329, 0.003415945, 0.0034099072, 0.0034223082, 0.0034175992, 0.003431521, 0.0034070376, 0.0034105056, 0.0034510004, 0.0034207616, 0.0034332043, 0.0034289844, 0.0034200677, 0.0034253704, 0.0034202964, 0.0034175809, 0.0034270037, 0.0034178293, 0.0034266969, 0.0034259595, 0.0034370178, 0.0034494444, 0.0034177336, 0.0034195273, 0.0034080003, 0.0034110143, 0.003414903, 0.0034173415, 0.003411882, 0.0034101068, 0.0034137832, 0.0034776526, 0.0034267826, 0.0034310748, 0.0034386213, 0.003404786, 0.0034192489, 0.0034170686, 0.003433952, 0.0034100881, 0.0034174449, 0.0034141399, 0.0034204863, 0.0034165576, 0.0034397668, 0.0034528284, 0.0034215085, 0.003427166, 0.0034082213, 0.0034151343, 0.003424327, 0.0034166668, 0.0034235676, 0.0034296543, 0.0034222435, 0.003414269, 0.0034280147, 0.0034106828, 0.003409478, 0.0034145853, 0.0034130488, 0.0034096197, 0.0034217641, 0.0034501248, 0.0034139347, 0.0034197085, 0.0034165974, 0.0034174377]\n",
      "2021-07-18 23:01:06,131 : INFO : topic #41 (0.003): 0.024*\"social\" + 0.019*\"service\" + 0.018*\"privacy\" + 0.012*\"information\" + 0.010*\"user\" + 0.008*\"quality\" + 0.008*\"use\" + 0.008*\"model\" + 0.008*\"technology\" + 0.008*\"study\"\n",
      "2021-07-18 23:01:06,132 : INFO : topic #228 (0.003): 0.022*\"privacy\" + 0.016*\"access\" + 0.015*\"user\" + 0.013*\"data\" + 0.013*\"control\" + 0.012*\"security\" + 0.010*\"cloud\" + 0.008*\"authentication\" + 0.008*\"based\" + 0.007*\"social\"\n",
      "2021-07-18 23:01:06,134 : INFO : topic #68 (0.003): 0.021*\"privacy\" + 0.017*\"data\" + 0.016*\"scheme\" + 0.014*\"user\" + 0.011*\"system\" + 0.010*\"information\" + 0.009*\"network\" + 0.009*\"based\" + 0.009*\"security\" + 0.008*\"service\"\n",
      "2021-07-18 23:01:06,135 : INFO : topic #181 (0.003): 0.029*\"privacy\" + 0.027*\"data\" + 0.012*\"health\" + 0.011*\"user\" + 0.009*\"research\" + 0.008*\"based\" + 0.008*\"information\" + 0.008*\"security\" + 0.007*\"network\" + 0.007*\"patient\"\n",
      "2021-07-18 23:01:06,137 : INFO : topic #218 (0.003): 0.047*\"privacy\" + 0.019*\"data\" + 0.013*\"cloud\" + 0.012*\"security\" + 0.012*\"service\" + 0.011*\"information\" + 0.011*\"system\" + 0.009*\"user\" + 0.008*\"model\" + 0.008*\"protocol\"\n",
      "2021-07-18 23:01:06,140 : INFO : topic diff=12.093289, rho=1.000000\n",
      "2021-07-18 23:09:17,583 : INFO : -7.220 per-word bound, 149.1 perplexity estimate based on a held-out corpus of 79433 documents with 7925243 words\n",
      "2021-07-18 23:09:17,585 : INFO : PROGRESS: pass 1, at document #79433/79433\n",
      "2021-07-18 23:16:08,530 : INFO : optimized alpha [0.0034088774, 0.0033931094, 0.0033980869, 0.0033929322, 0.003402156, 0.0034352804, 0.0034200938, 0.0033992014, 0.003434443, 0.0033838633, 0.0034177932, 0.003375369, 0.0033849156, 0.003388427, 0.0034000934, 0.0033918316, 0.0034135398, 0.0034132672, 0.0034200274, 0.0033936615, 0.0034408553, 0.003383332, 0.0034075356, 0.0034415105, 0.003401104, 0.0033956298, 0.0033935865, 0.0034123685, 0.0033894014, 0.0033870586, 0.0034291155, 0.003393077, 0.0033837352, 0.0033962172, 0.0034073046, 0.0034201096, 0.00339945, 0.0034293886, 0.003407487, 0.0034769254, 0.0033954175, 0.003422633, 0.0034409615, 0.003394155, 0.0033877918, 0.0033958894, 0.0034092048, 0.0034225583, 0.003422264, 0.003431376, 0.0033926843, 0.0033941204, 0.0033905753, 0.0033823107, 0.0033984368, 0.0034175867, 0.003404399, 0.003397776, 0.00338964, 0.003423417, 0.003446937, 0.003394257, 0.003411711, 0.003420171, 0.0033935986, 0.003407109, 0.0033923148, 0.0034068583, 0.0034257672, 0.003399081, 0.0033934833, 0.0034057808, 0.0034392974, 0.003387092, 0.0033868651, 0.0034478873, 0.003414637, 0.00347654, 0.0034057985, 0.0033941343, 0.0034002953, 0.003403153, 0.003388663, 0.0034044527, 0.003446681, 0.0034238843, 0.0033805086, 0.0033849094, 0.0034155147, 0.0034008294, 0.003386577, 0.00339402, 0.00340801, 0.0034153506, 0.003411003, 0.0033949395, 0.0034067023, 0.003386917, 0.0033970105, 0.0033989619, 0.0034103976, 0.0033861941, 0.0034009155, 0.0034051915, 0.0034294669, 0.00339263, 0.0034167373, 0.0033915988, 0.003391059, 0.0033767074, 0.0033897029, 0.0033988853, 0.0033950969, 0.0034633784, 0.0034089861, 0.003421419, 0.0034114965, 0.003435199, 0.0033876488, 0.0034073186, 0.0034279507, 0.0034206598, 0.0033976273, 0.0034382218, 0.003408995, 0.00341348, 0.0033842057, 0.0034390471, 0.0033913236, 0.00339018, 0.0034217313, 0.0034452837, 0.003418317, 0.0033836917, 0.003402522, 0.0034012846, 0.0034123762, 0.0033846705, 0.0034304096, 0.0034105945, 0.003391494, 0.0033888293, 0.0034000033, 0.0034649502, 0.0034440858, 0.003402941, 0.0034403026, 0.0033896207, 0.0034554251, 0.003394297, 0.0035052095, 0.0033917075, 0.0034442095, 0.0034162095, 0.0034095661, 0.003400734, 0.0034328897, 0.0034086623, 0.0033878398, 0.0034135934, 0.003401456, 0.003390704, 0.0033946333, 0.0034148318, 0.0034134935, 0.003402331, 0.0033901385, 0.0033888307, 0.003393263, 0.003424368, 0.0034065996, 0.0034000105, 0.0034205187, 0.0033868544, 0.0033824514, 0.0033997295, 0.0034312615, 0.0033863946, 0.0033950668, 0.0034412916, 0.0033834921, 0.0034390574, 0.0033863317, 0.003388935, 0.0033994569, 0.0034197436, 0.0034884764, 0.0034011675, 0.0034191236, 0.0034171, 0.0033806919, 0.0033915844, 0.003436273, 0.0034319102, 0.003393042, 0.0034137797, 0.003449644, 0.003384888, 0.0033839706, 0.003401732, 0.0033926368, 0.0034121177, 0.0033976058, 0.0034279283, 0.0034234757, 0.0034108048, 0.0034797916, 0.0033952722, 0.0034664015, 0.003388361, 0.003409088, 0.0034432777, 0.0033866926, 0.003376989, 0.0033871208, 0.0034057875, 0.003414545, 0.003386891, 0.0034415564, 0.0034075454, 0.0034055728, 0.003401238, 0.0034099251, 0.0033833843, 0.0033928263, 0.003391344, 0.0034341936, 0.0033799028, 0.0033853287, 0.003504226, 0.0034061526, 0.0034061426, 0.0034021959, 0.0033960599, 0.0033998368, 0.0033910447, 0.0034060092, 0.003431302, 0.0034137536, 0.003410571, 0.00339669, 0.0034751706, 0.0034520852, 0.003387263, 0.0034294794, 0.003379082, 0.0034072364, 0.0033948843, 0.0034048695, 0.0033961977, 0.0033900703, 0.0033836644, 0.0034575562, 0.00345792, 0.0034427524, 0.00342892, 0.0033776294, 0.003393755, 0.0033998531, 0.003403814, 0.0033957553, 0.003400646, 0.00338322, 0.003422822, 0.0034194503, 0.0034227432, 0.0034340513, 0.0033974552, 0.0034017777, 0.0033835566, 0.0034146854, 0.0034016962, 0.003399557, 0.0034111626, 0.0034044369, 0.0033994426, 0.0033996587, 0.0034099165, 0.0033813647, 0.0034271209, 0.0034053747, 0.00339418, 0.0034116437, 0.0034027894, 0.0034290613, 0.0033895045, 0.0034168956, 0.0033920724, 0.0033961434]\n"
     ]
    },
    {
     "name": "stderr",
     "output_type": "stream",
     "text": [
      "2021-07-18 23:16:08,618 : INFO : topic #109 (0.003): 0.026*\"privacy\" + 0.019*\"information\" + 0.012*\"access\" + 0.012*\"control\" + 0.011*\"data\" + 0.009*\"security\" + 0.008*\"authentication\" + 0.008*\"based\" + 0.007*\"scheme\" + 0.007*\"protocol\"\n",
      "2021-07-18 23:16:08,620 : INFO : topic #166 (0.003): 0.041*\"attack\" + 0.018*\"channel\" + 0.015*\"side\" + 0.014*\"fault\" + 0.014*\"aes\" + 0.013*\"differential\" + 0.012*\"analysis\" + 0.012*\"privacy\" + 0.011*\"security\" + 0.009*\"model\"\n",
      "2021-07-18 23:16:08,621 : INFO : topic #229 (0.004): 0.105*\"data\" + 0.038*\"privacy\" + 0.015*\"preserving\" + 0.009*\"method\" + 0.009*\"model\" + 0.008*\"mining\" + 0.008*\"algorithm\" + 0.008*\"based\" + 0.007*\"information\" + 0.007*\"approach\"\n",
      "2021-07-18 23:16:08,622 : INFO : topic #241 (0.003): 0.106*\"data\" + 0.038*\"privacy\" + 0.026*\"big\" + 0.015*\"mining\" + 0.011*\"information\" + 0.008*\"preserving\" + 0.008*\"protection\" + 0.008*\"paper\" + 0.007*\"technique\" + 0.007*\"security\"\n",
      "2021-07-18 23:16:08,623 : INFO : topic #77 (0.003): 0.064*\"privacy\" + 0.029*\"user\" + 0.015*\"location\" + 0.012*\"data\" + 0.010*\"information\" + 0.009*\"mobile\" + 0.009*\"security\" + 0.008*\"based\" + 0.008*\"scheme\" + 0.007*\"application\"\n",
      "2021-07-18 23:16:08,626 : INFO : topic diff=1.116392, rho=0.577350\n",
      "2021-07-18 23:23:52,349 : INFO : -6.954 per-word bound, 124.0 perplexity estimate based on a held-out corpus of 79433 documents with 7925243 words\n",
      "2021-07-18 23:23:52,356 : INFO : PROGRESS: pass 2, at document #79433/79433\n",
      "2021-07-18 23:30:31,037 : INFO : optimized alpha [0.0034201588, 0.0033693588, 0.0033765596, 0.003366694, 0.0034118297, 0.0034299563, 0.0034278478, 0.0033716618, 0.0034244736, 0.00336052, 0.0034417848, 0.003351053, 0.0033727675, 0.0033805121, 0.0033735745, 0.0033708056, 0.0034257865, 0.0034319074, 0.003494077, 0.0033894842, 0.0034099778, 0.0033801633, 0.0033989295, 0.0034723706, 0.0034071137, 0.0033656594, 0.0033890747, 0.0033899068, 0.0033663174, 0.0033722399, 0.0034020178, 0.0033684433, 0.0033749628, 0.0033676068, 0.0033819866, 0.003400922, 0.003378188, 0.0034620678, 0.0034325798, 0.003549628, 0.003366377, 0.0034392148, 0.003475006, 0.0033970445, 0.0033750834, 0.0034029945, 0.0033813978, 0.0034665174, 0.0034345307, 0.0034336308, 0.0033826963, 0.0033733256, 0.0033638058, 0.0033580908, 0.003373093, 0.0033954429, 0.003381766, 0.0033732522, 0.003363349, 0.0033991782, 0.003416562, 0.0033833263, 0.0033902011, 0.0034318496, 0.0033688007, 0.003424978, 0.0033742893, 0.0034133194, 0.0033964347, 0.0033715516, 0.003377883, 0.0034388227, 0.0034935062, 0.0033666054, 0.003366005, 0.0034809234, 0.0034115496, 0.0034474216, 0.0034009784, 0.003368775, 0.0033811338, 0.003398284, 0.003368285, 0.0033932508, 0.0034853271, 0.0034004706, 0.003355618, 0.0033618617, 0.00341175, 0.0034233716, 0.0033766231, 0.0033687484, 0.0033873704, 0.0034179047, 0.003391004, 0.0033948498, 0.0033773927, 0.003358448, 0.0033795284, 0.0033815738, 0.0033838227, 0.003367509, 0.0033786455, 0.0034095105, 0.003441365, 0.0033773119, 0.0033962217, 0.0033667414, 0.0033743747, 0.0033519939, 0.003368025, 0.0033850882, 0.003383823, 0.0035062614, 0.0033967018, 0.0034077703, 0.0034171185, 0.0034628992, 0.003391638, 0.0034252626, 0.0033992815, 0.0034335973, 0.0033943802, 0.003412836, 0.0034067484, 0.003411103, 0.0033589292, 0.0034391014, 0.0033803445, 0.0033742993, 0.0034057833, 0.0034531476, 0.0034506004, 0.0033605418, 0.0033848619, 0.0034277772, 0.0034249558, 0.0033679681, 0.0034309463, 0.0034281895, 0.0033685772, 0.0033779342, 0.003372672, 0.0034866978, 0.0034224666, 0.0033844616, 0.0034938918, 0.0033676103, 0.0034418458, 0.003388238, 0.0035435737, 0.0033702916, 0.0034872475, 0.0033913709, 0.0033881832, 0.0033754082, 0.0034230677, 0.0034187161, 0.0033732823, 0.0033989444, 0.0034070702, 0.0033797119, 0.003366031, 0.0034021835, 0.0033847026, 0.0033840514, 0.003394365, 0.0033712885, 0.0033700382, 0.003395474, 0.00338908, 0.0033894926, 0.0034174577, 0.003372941, 0.0033717563, 0.0033726443, 0.0034077978, 0.0033699914, 0.0033733784, 0.003506325, 0.003355487, 0.0034084527, 0.0033837934, 0.0033650512, 0.0033968473, 0.003389321, 0.0034952993, 0.0034178859, 0.0034218775, 0.0034182617, 0.003366392, 0.0033659677, 0.0034463261, 0.0034162507, 0.0033813692, 0.0034360308, 0.003479419, 0.0033615844, 0.0033606752, 0.003396703, 0.0033817098, 0.0033851918, 0.0033911918, 0.0034150665, 0.003406117, 0.0033886028, 0.0035392626, 0.0033833312, 0.0034688008, 0.003367858, 0.0034216794, 0.00341282, 0.0033969223, 0.0033612573, 0.0033659465, 0.0033772164, 0.0034056858, 0.0033723495, 0.0034116223, 0.0034221634, 0.003377056, 0.0034253448, 0.0034143787, 0.0033606454, 0.00336527, 0.003367436, 0.0034396055, 0.0033613637, 0.0033687043, 0.0035649384, 0.003394947, 0.0033780173, 0.0033757144, 0.0033736022, 0.003373093, 0.003363424, 0.0034064176, 0.00347231, 0.0034267714, 0.003400577, 0.0033724871, 0.0035262092, 0.0034542112, 0.0033643895, 0.0034617358, 0.0033589671, 0.0034187308, 0.0033783105, 0.0034042795, 0.0033970503, 0.0033871275, 0.0033581513, 0.0034296568, 0.003495049, 0.003455874, 0.00342544, 0.0033630729, 0.0033754783, 0.003383408, 0.0033749042, 0.003387518, 0.0033909853, 0.0033570826, 0.0034377554, 0.0034473573, 0.003404242, 0.0034177632, 0.0033717116, 0.0033770693, 0.0033725777, 0.0034430542, 0.003386554, 0.0033985886, 0.0034047558, 0.0033769626, 0.0033807578, 0.003397122, 0.0033959467, 0.0033551692, 0.0034693235, 0.0034304154, 0.0033839303, 0.0034186884, 0.003384646, 0.0034056236, 0.0033739917, 0.0034463215, 0.0033749663, 0.0033782152]\n",
      "2021-07-18 23:30:31,106 : INFO : topic #87 (0.003): 0.022*\"privacy\" + 0.014*\"app\" + 0.011*\"automated\" + 0.010*\"constraint\" + 0.010*\"information\" + 0.010*\"malware\" + 0.009*\"channel\" + 0.008*\"mobile\" + 0.007*\"phone\" + 0.007*\"android\"\n",
      "2021-07-18 23:30:31,109 : INFO : topic #52 (0.003): 0.034*\"privacy\" + 0.022*\"system\" + 0.014*\"technology\" + 0.011*\"user\" + 0.010*\"healthcare\" + 0.008*\"information\" + 0.007*\"based\" + 0.007*\"video\" + 0.006*\"data\" + 0.006*\"living\"\n",
      "2021-07-18 23:30:31,111 : INFO : topic #179 (0.004): 0.139*\"cloud\" + 0.067*\"computing\" + 0.040*\"service\" + 0.035*\"security\" + 0.017*\"privacy\" + 0.015*\"data\" + 0.011*\"provider\" + 0.011*\"user\" + 0.010*\"access\" + 0.009*\"issue\"\n",
      "2021-07-18 23:30:31,112 : INFO : topic #229 (0.004): 0.119*\"data\" + 0.042*\"privacy\" + 0.019*\"preserving\" + 0.012*\"method\" + 0.010*\"mining\" + 0.009*\"model\" + 0.009*\"algorithm\" + 0.008*\"approach\" + 0.008*\"based\" + 0.007*\"information\"\n",
      "2021-07-18 23:30:31,114 : INFO : topic #150 (0.004): 0.091*\"privacy\" + 0.043*\"data\" + 0.017*\"preserving\" + 0.016*\"user\" + 0.015*\"utility\" + 0.015*\"differential\" + 0.014*\"information\" + 0.011*\"algorithm\" + 0.009*\"mining\" + 0.009*\"based\"\n",
      "2021-07-18 23:30:31,118 : INFO : topic diff=1.354365, rho=0.500000\n",
      "2021-07-18 23:36:14,162 : INFO : -6.831 per-word bound, 113.8 perplexity estimate based on a held-out corpus of 79433 documents with 7925243 words\n",
      "2021-07-18 23:36:14,163 : INFO : PROGRESS: pass 3, at document #79433/79433\n",
      "2021-07-18 23:40:58,971 : INFO : optimized alpha [0.0034355477, 0.0033483992, 0.0033606924, 0.003346934, 0.0034329977, 0.0034512938, 0.0034438455, 0.0033500586, 0.0034154379, 0.0033454283, 0.0034725757, 0.003334978, 0.0033767386, 0.0033953625, 0.003350002, 0.0033553948, 0.0034351668, 0.0034642075, 0.0035723958, 0.003401463, 0.0033835869, 0.003392697, 0.0033987055, 0.0035031452, 0.003425344, 0.0033402317, 0.0033990545, 0.0033719041, 0.0033475563, 0.0033670564, 0.0033771489, 0.0033493384, 0.0033761563, 0.0033426534, 0.0033585525, 0.0033822965, 0.00337032, 0.0034994236, 0.0034708744, 0.003620068, 0.0033408615, 0.003457241, 0.0035063776, 0.0034104388, 0.0033799135, 0.0034165215, 0.0033572095, 0.0035144312, 0.0034488908, 0.003434815, 0.0033846896, 0.0033565003, 0.0033398527, 0.0033403623, 0.0033507617, 0.0033786506, 0.0033659204, 0.0033559275, 0.0033396473, 0.00337578, 0.0033892745, 0.003379843, 0.003371622, 0.003447564, 0.003354503, 0.0034385072, 0.0033664214, 0.003419806, 0.0033695574, 0.003347788, 0.0033672415, 0.0034879504, 0.0035429224, 0.0033560495, 0.0033532649, 0.0035102922, 0.003406617, 0.0034202016, 0.0033981234, 0.003345851, 0.0033828975, 0.0033988354, 0.003357998, 0.0033899988, 0.0035077378, 0.0033800763, 0.0033367386, 0.0033444224, 0.0034248596, 0.0034671808, 0.0033715602, 0.003348078, 0.003369632, 0.0034197595, 0.0033770548, 0.0034147191, 0.0033511042, 0.0033332673, 0.0033754564, 0.0033689218, 0.003359111, 0.0033580444, 0.0033648708, 0.0034152889, 0.0034672155, 0.003374365, 0.0033833967, 0.0033481042, 0.0033672631, 0.0033420157, 0.0033507869, 0.0033786763, 0.0033913197, 0.0035336942, 0.003409592, 0.0033956864, 0.00342919, 0.0034806612, 0.003407151, 0.0034511867, 0.003372591, 0.0034447585, 0.0033910903, 0.003389526, 0.0034146209, 0.0034122537, 0.0033402387, 0.0034430309, 0.0033837538, 0.003370308, 0.003404313, 0.003464671, 0.0034927563, 0.0033471356, 0.00337344, 0.0034763275, 0.0034491522, 0.0033593331, 0.0034308857, 0.003442391, 0.003353523, 0.0033865927, 0.0033516895, 0.0034929672, 0.0034029374, 0.0033774192, 0.0035454473, 0.0033545408, 0.00342664, 0.0034141077, 0.0035789048, 0.003356535, 0.0035327831, 0.0033684147, 0.0033695272, 0.0033551662, 0.0034127969, 0.0034371666, 0.0033702652, 0.003389974, 0.0034144837, 0.0033854982, 0.0033410212, 0.0033972817, 0.0033589636, 0.0033664848, 0.0034076096, 0.0033676992, 0.0033541596, 0.00336865, 0.0033759074, 0.003384322, 0.0034173254, 0.0033763223, 0.0033763975, 0.003349379, 0.0033842188, 0.003368922, 0.0033592891, 0.0035748333, 0.0033307818, 0.00338215, 0.0033936233, 0.0033500518, 0.0034066406, 0.003363029, 0.003500704, 0.0034396253, 0.0034376115, 0.0034278145, 0.003365108, 0.0033517953, 0.003458266, 0.0034030245, 0.0033768858, 0.003473802, 0.003521596, 0.003345622, 0.0033405074, 0.0033976152, 0.0033807885, 0.003360059, 0.0034111945, 0.0034010524, 0.0033912314, 0.0033665881, 0.003587705, 0.0033812304, 0.0034666634, 0.003361664, 0.00343905, 0.0033861601, 0.0034269616, 0.0033653886, 0.0033499375, 0.0033511373, 0.0034085785, 0.003363406, 0.0033851801, 0.003440903, 0.0033509927, 0.0034592713, 0.0034253388, 0.0033440625, 0.0033433673, 0.0033507762, 0.0034478337, 0.0033578766, 0.0033660834, 0.0036121665, 0.003385028, 0.003352141, 0.003351482, 0.0033556763, 0.003348365, 0.0033402452, 0.003413054, 0.003519032, 0.0034462197, 0.0033989185, 0.0033584544, 0.0035851737, 0.0034545767, 0.003351563, 0.00349007, 0.0033521987, 0.0034364674, 0.00337017, 0.0034127247, 0.0034098043, 0.0034018098, 0.003340306, 0.0034032688, 0.0035324737, 0.0034645998, 0.0034317053, 0.0033660042, 0.0033759433, 0.003373349, 0.0033483207, 0.0033820586, 0.003384805, 0.0033336163, 0.0034596913, 0.0034771955, 0.003388631, 0.0034079445, 0.003351716, 0.0033567068, 0.0033740553, 0.003473763, 0.003396597, 0.003413166, 0.0033996406, 0.003351161, 0.0033691712, 0.0033975134, 0.0033885993, 0.0033347209, 0.0035080705, 0.0034692716, 0.0033859438, 0.00342381, 0.0033666969, 0.0033827736, 0.0033746457, 0.0034894566, 0.0033716985, 0.0033712036]\n"
     ]
    },
    {
     "name": "stderr",
     "output_type": "stream",
     "text": [
      "2021-07-18 23:40:59,043 : INFO : topic #11 (0.003): 0.050*\"news\" + 0.039*\"transmission\" + 0.033*\"coverage\" + 0.030*\"data\" + 0.019*\"product\" + 0.014*\"elderly\" + 0.012*\"network\" + 0.011*\"privacy\" + 0.010*\"library\" + 0.010*\"study\"\n",
      "2021-07-18 23:40:59,045 : INFO : topic #25 (0.003): 0.039*\"privacy\" + 0.011*\"data\" + 0.011*\"user\" + 0.010*\"security\" + 0.009*\"protocol\" + 0.009*\"scheme\" + 0.009*\"counter\" + 0.007*\"information\" + 0.007*\"based\" + 0.007*\"research\"\n",
      "2021-07-18 23:40:59,046 : INFO : topic #18 (0.004): 0.065*\"online\" + 0.052*\"consumer\" + 0.022*\"commerce\" + 0.021*\"privacy\" + 0.020*\"internet\" + 0.019*\"study\" + 0.018*\"intention\" + 0.018*\"perceived\" + 0.015*\"factor\" + 0.014*\"customer\"\n",
      "2021-07-18 23:40:59,048 : INFO : topic #39 (0.004): 0.086*\"protocol\" + 0.036*\"secure\" + 0.028*\"party\" + 0.026*\"computation\" + 0.021*\"privacy\" + 0.015*\"security\" + 0.012*\"based\" + 0.012*\"preserving\" + 0.012*\"two\" + 0.011*\"multi\"\n",
      "2021-07-18 23:40:59,049 : INFO : topic #229 (0.004): 0.128*\"data\" + 0.045*\"privacy\" + 0.021*\"preserving\" + 0.015*\"method\" + 0.010*\"mining\" + 0.010*\"model\" + 0.010*\"algorithm\" + 0.008*\"approach\" + 0.008*\"anonymization\" + 0.008*\"based\"\n",
      "2021-07-18 23:40:59,052 : INFO : topic diff=1.707353, rho=0.447214\n",
      "2021-07-18 23:45:44,258 : INFO : -6.760 per-word bound, 108.4 perplexity estimate based on a held-out corpus of 79433 documents with 7925243 words\n",
      "2021-07-18 23:45:44,259 : INFO : PROGRESS: pass 4, at document #79433/79433\n",
      "2021-07-18 23:49:19,627 : INFO : optimized alpha [0.0034521227, 0.0033332033, 0.0033552155, 0.003335616, 0.003457908, 0.0034911844, 0.003467462, 0.003335363, 0.0034097107, 0.0033401968, 0.0035072812, 0.0033308016, 0.0033933742, 0.0034305216, 0.0033320736, 0.003345202, 0.0034411466, 0.0035000849, 0.0036477535, 0.003417158, 0.0033599243, 0.0034159592, 0.0034071903, 0.0035324513, 0.0034462844, 0.0033184025, 0.0034157687, 0.0033599304, 0.0033323409, 0.0033708683, 0.003354813, 0.0033392818, 0.0033829582, 0.0033207606, 0.003337542, 0.0033668957, 0.0033698943, 0.003537809, 0.0035121348, 0.0036852523, 0.003318105, 0.0034812533, 0.0035320863, 0.003429952, 0.0033950703, 0.003428086, 0.003337476, 0.0035582932, 0.0034638464, 0.0034386758, 0.0033902028, 0.0033484928, 0.0033191817, 0.0033327397, 0.003334751, 0.0033721982, 0.0033569855, 0.0033468558, 0.0033187368, 0.0033548845, 0.003365308, 0.003386564, 0.003357647, 0.003464157, 0.0033532074, 0.0034483834, 0.0033692217, 0.0034260966, 0.003345604, 0.0033293008, 0.0033592356, 0.0035449103, 0.0035820242, 0.003350769, 0.003348791, 0.0035344486, 0.003404295, 0.0033951786, 0.003399874, 0.0033270423, 0.0034256412, 0.003401423, 0.0033645749, 0.0033907283, 0.003525644, 0.0033636605, 0.003330218, 0.0033360065, 0.0034559122, 0.0035184838, 0.0033702722, 0.0033340312, 0.0033572684, 0.0034182752, 0.0033755503, 0.0034497648, 0.003327084, 0.0033103982, 0.0033860304, 0.0033586856, 0.0033362675, 0.0033588763, 0.0033671076, 0.0034202451, 0.0035022194, 0.0033766257, 0.0033785785, 0.003339352, 0.0033697141, 0.0033479838, 0.0033447002, 0.0033766874, 0.0034140686, 0.003552908, 0.0034367065, 0.0033820644, 0.0034458982, 0.003496734, 0.0034291022, 0.0034789701, 0.0033482048, 0.0034545215, 0.0033877061, 0.003368403, 0.0034295756, 0.0034184097, 0.0033306214, 0.003446798, 0.0034012375, 0.00337647, 0.0034258056, 0.0034774544, 0.003537905, 0.0033390871, 0.0033690024, 0.003535005, 0.0034796912, 0.0033565687, 0.0034297707, 0.0034546198, 0.0033445416, 0.0034069358, 0.0033433314, 0.0034892398, 0.003389645, 0.0033844346, 0.0035974537, 0.0033546502, 0.0034138935, 0.0034600808, 0.0036153705, 0.003352259, 0.0035772116, 0.0033500867, 0.0033532833, 0.0033399784, 0.0034045328, 0.0034653782, 0.0033791251, 0.0033891501, 0.0034199283, 0.0034016029, 0.0033184562, 0.0033957888, 0.003335775, 0.003352291, 0.003425473, 0.0033785028, 0.0033516819, 0.003344775, 0.0033678862, 0.0033870987, 0.003418653, 0.0033892465, 0.003392621, 0.003333188, 0.003362589, 0.0033757396, 0.0033588186, 0.0036437404, 0.0033102608, 0.003358495, 0.003407703, 0.0033423714, 0.0034242691, 0.003339647, 0.0035069725, 0.0034650138, 0.003467467, 0.003446361, 0.0033722196, 0.0033529012, 0.003476219, 0.0033923832, 0.0033758911, 0.0035116354, 0.0035669082, 0.0033385272, 0.0033250079, 0.0034032583, 0.0033887955, 0.0033371763, 0.0034468933, 0.003389837, 0.0033782, 0.0033458883, 0.003631253, 0.003382921, 0.003465765, 0.00336968, 0.0034553816, 0.003362438, 0.0034720793, 0.003383663, 0.0033375437, 0.0033272128, 0.0034168577, 0.0033572135, 0.0033614945, 0.0034628082, 0.0033270584, 0.0034868503, 0.0034431268, 0.003333702, 0.003329014, 0.0033412848, 0.0034600792, 0.0033681479, 0.003388366, 0.0036494317, 0.0033779186, 0.0033282922, 0.0033308736, 0.0033467463, 0.003326076, 0.0033214628, 0.0034213539, 0.0035640916, 0.0034674644, 0.003405718, 0.003354496, 0.0036454177, 0.003457324, 0.003346283, 0.0035152298, 0.003354055, 0.0034582282, 0.0033703027, 0.0034286692, 0.0034297635, 0.0034250359, 0.0033309744, 0.003379286, 0.0035722938, 0.003473638, 0.0034471888, 0.003378923, 0.00339805, 0.0033713263, 0.003324396, 0.0033819664, 0.0033798264, 0.0033126464, 0.0034849546, 0.0035051445, 0.003378156, 0.0034068278, 0.0033426606, 0.003343797, 0.0033866786, 0.0035047955, 0.0034318168, 0.0034345002, 0.003395585, 0.0033274028, 0.003364193, 0.0033985344, 0.003390864, 0.0033223138, 0.0035449236, 0.0035066805, 0.0033955376, 0.0034297674, 0.003348717, 0.003361422, 0.003388408, 0.003533404, 0.0033803473, 0.003378257]\n",
      "2021-07-18 23:49:19,702 : INFO : topic #33 (0.003): 0.031*\"mechanism\" + 0.031*\"privacy\" + 0.016*\"user\" + 0.012*\"security\" + 0.011*\"preserving\" + 0.010*\"auction\" + 0.009*\"data\" + 0.008*\"design\" + 0.008*\"spectrum\" + 0.008*\"based\"\n",
      "2021-07-18 23:49:19,703 : INFO : topic #52 (0.003): 0.033*\"privacy\" + 0.031*\"ambient\" + 0.021*\"system\" + 0.019*\"technology\" + 0.013*\"living\" + 0.010*\"assisted\" + 0.010*\"user\" + 0.010*\"healthcare\" + 0.009*\"enforcement\" + 0.008*\"information\"\n",
      "2021-07-18 23:49:19,705 : INFO : topic #18 (0.004): 0.068*\"online\" + 0.058*\"consumer\" + 0.025*\"commerce\" + 0.021*\"privacy\" + 0.020*\"internet\" + 0.019*\"intention\" + 0.019*\"perceived\" + 0.019*\"study\" + 0.016*\"customer\" + 0.015*\"factor\"\n",
      "2021-07-18 23:49:19,706 : INFO : topic #229 (0.004): 0.136*\"data\" + 0.047*\"privacy\" + 0.024*\"preserving\" + 0.017*\"method\" + 0.011*\"mining\" + 0.010*\"model\" + 0.009*\"algorithm\" + 0.009*\"approach\" + 0.008*\"anonymization\" + 0.008*\"based\"\n",
      "2021-07-18 23:49:19,707 : INFO : topic #39 (0.004): 0.092*\"protocol\" + 0.040*\"secure\" + 0.033*\"party\" + 0.029*\"computation\" + 0.021*\"privacy\" + 0.014*\"security\" + 0.013*\"preserving\" + 0.013*\"two\" + 0.012*\"multi\" + 0.011*\"based\"\n",
      "2021-07-18 23:49:19,709 : INFO : topic diff=2.120671, rho=0.408248\n",
      "2021-07-18 23:53:44,717 : INFO : -6.717 per-word bound, 105.2 perplexity estimate based on a held-out corpus of 79433 documents with 7925243 words\n",
      "2021-07-18 23:53:44,719 : INFO : PROGRESS: pass 5, at document #79433/79433\n",
      "2021-07-18 23:57:07,706 : INFO : optimized alpha [0.0034685528, 0.0033292084, 0.0033618612, 0.0033327162, 0.0034854284, 0.0035407622, 0.0034974338, 0.003325283, 0.0034082262, 0.0033435454, 0.003542547, 0.0033361916, 0.0034139305, 0.0034774242, 0.003324484, 0.0033379449, 0.0034467694, 0.003537455, 0.0037201368, 0.003433825, 0.0033383623, 0.003447145, 0.0034217006, 0.0035603032, 0.0034670127, 0.0033016142, 0.0034367752, 0.0033547801, 0.0033221138, 0.0033790593, 0.0033362524, 0.0033390285, 0.0033935055, 0.0033017956, 0.0033192765, 0.0033566735, 0.0033728897, 0.0035744712, 0.0035555142, 0.003745707, 0.003297418, 0.0035076689, 0.00355167, 0.0034521834, 0.0034148227, 0.0034386972, 0.003323348, 0.0036002295, 0.003478838, 0.0034455482, 0.0033951974, 0.0033481345, 0.003302219, 0.0033349784, 0.0033286323, 0.0033745677, 0.003353543, 0.0033448623, 0.003303128, 0.0033378343, 0.0033435794, 0.003404323, 0.003353288, 0.003481208, 0.003359277, 0.0034575397, 0.003376956, 0.0034333568, 0.0033239631, 0.0033155086, 0.003354669, 0.00360768, 0.0036166478, 0.0033475726, 0.003348863, 0.0035541928, 0.0034048415, 0.003372358, 0.0034071347, 0.0033140427, 0.0034968099, 0.0034069684, 0.0033864004, 0.0033918559, 0.0035454312, 0.003350595, 0.0033353844, 0.0033365528, 0.003504082, 0.003572656, 0.0033736804, 0.0033358436, 0.0033476464, 0.0034136684, 0.0033924028, 0.0034947335, 0.0033051884, 0.003289865, 0.0034075228, 0.0033526057, 0.0033152755, 0.00337001, 0.0033852125, 0.0034260498, 0.0035438254, 0.0033814088, 0.003379062, 0.00334703, 0.0033764471, 0.0033580307, 0.0033535794, 0.003378007, 0.003447686, 0.0035681953, 0.0034705966, 0.0033697495, 0.0034638376, 0.0035163714, 0.003453661, 0.0035068786, 0.003326089, 0.0034649596, 0.0033847683, 0.0033497154, 0.003448761, 0.0034298196, 0.0033262435, 0.0034522384, 0.0034292708, 0.0033871126, 0.0034662082, 0.0034917786, 0.0035845342, 0.0033336007, 0.0033727174, 0.0036004086, 0.003513588, 0.0033577103, 0.0034286168, 0.0034671144, 0.0033383204, 0.003431062, 0.0033476604, 0.0034828896, 0.0033849103, 0.0034006995, 0.0036521545, 0.0033642189, 0.003403975, 0.0035167902, 0.0036526583, 0.003354001, 0.0036203605, 0.0033381633, 0.0033409088, 0.0033272475, 0.0033989018, 0.0035026532, 0.0033945234, 0.0033964273, 0.003424975, 0.0034236899, 0.003297818, 0.0033959346, 0.0033146997, 0.0033434243, 0.0034458484, 0.0033940964, 0.003367261, 0.0033231634, 0.0033646994, 0.0033993393, 0.0034208398, 0.0034057142, 0.0034162526, 0.0033265108, 0.0033434636, 0.0033840346, 0.0033705446, 0.00371221, 0.0033024137, 0.003336918, 0.0034265355, 0.0033392701, 0.0034464896, 0.003318371, 0.003516243, 0.003492739, 0.0035115809, 0.0034711412, 0.0033839976, 0.0033628424, 0.0034990213, 0.0033828837, 0.0033787682, 0.0035478477, 0.00361184, 0.0033410054, 0.0033158653, 0.003414498, 0.0034049717, 0.0033162793, 0.0034909411, 0.0033823901, 0.0033704443, 0.0033264502, 0.0036728538, 0.0033870481, 0.00346905, 0.003383941, 0.0034715338, 0.0033408473, 0.0035271102, 0.003408541, 0.003331641, 0.003305348, 0.0034219369, 0.0033524071, 0.0033399276, 0.0034875465, 0.003305216, 0.0035060055, 0.0034656818, 0.0033317877, 0.0033226388, 0.0033384736, 0.0034755275, 0.0033899164, 0.0034377677, 0.0036785828, 0.0033724234, 0.003306436, 0.003315933, 0.003346283, 0.0033057127, 0.0033062221, 0.003430095, 0.0036088545, 0.0034922715, 0.0034191075, 0.0033558367, 0.0037043672, 0.0034627186, 0.0033481582, 0.003540197, 0.0033618885, 0.0034824314, 0.0033761344, 0.0034466665, 0.0034538102, 0.0034505676, 0.0033279168, 0.0033573364, 0.0036151826, 0.0034875148, 0.0034700937, 0.0033975644, 0.0034367412, 0.0033795945, 0.0033027853, 0.0033910568, 0.003374322, 0.0032974829, 0.003511904, 0.0035309698, 0.0033745994, 0.0034115494, 0.0033459787, 0.0033434296, 0.003408151, 0.003536638, 0.0034834372, 0.0034587581, 0.0033922526, 0.0033056408, 0.003366931, 0.0033989807, 0.003399941, 0.0033164874, 0.003579039, 0.0035420882, 0.0034100777, 0.0034359829, 0.0033316705, 0.0033417416, 0.0034100942, 0.0035755984, 0.003394971, 0.0033986997]\n"
     ]
    },
    {
     "name": "stderr",
     "output_type": "stream",
     "text": [
      "2021-07-18 23:57:07,775 : INFO : topic #97 (0.003): 0.025*\"privacy\" + 0.022*\"express\" + 0.012*\"security\" + 0.012*\"system\" + 0.011*\"application\" + 0.009*\"information\" + 0.008*\"website\" + 0.008*\"user\" + 0.008*\"private\" + 0.008*\"time\"\n",
      "2021-07-18 23:57:07,776 : INFO : topic #235 (0.003): 0.129*\"driving\" + 0.026*\"privacy\" + 0.020*\"system\" + 0.015*\"driver\" + 0.014*\"computing\" + 0.010*\"data\" + 0.007*\"architecture\" + 0.007*\"user\" + 0.007*\"security\" + 0.007*\"paper\"\n",
      "2021-07-18 23:57:07,778 : INFO : topic #18 (0.004): 0.071*\"online\" + 0.063*\"consumer\" + 0.027*\"commerce\" + 0.021*\"intention\" + 0.020*\"privacy\" + 0.020*\"perceived\" + 0.019*\"study\" + 0.019*\"internet\" + 0.016*\"customer\" + 0.014*\"factor\"\n",
      "2021-07-18 23:57:07,779 : INFO : topic #179 (0.004): 0.171*\"cloud\" + 0.097*\"computing\" + 0.043*\"service\" + 0.037*\"security\" + 0.018*\"privacy\" + 0.015*\"data\" + 0.012*\"provider\" + 0.011*\"issue\" + 0.011*\"environment\" + 0.010*\"user\"\n",
      "2021-07-18 23:57:07,781 : INFO : topic #39 (0.004): 0.097*\"protocol\" + 0.043*\"secure\" + 0.037*\"party\" + 0.031*\"computation\" + 0.022*\"privacy\" + 0.015*\"preserving\" + 0.014*\"two\" + 0.013*\"multi\" + 0.013*\"security\" + 0.011*\"based\"\n",
      "2021-07-18 23:57:07,783 : INFO : topic diff=2.570113, rho=0.377964\n",
      "2021-07-19 00:00:56,902 : INFO : -6.691 per-word bound, 103.3 perplexity estimate based on a held-out corpus of 79433 documents with 7925243 words\n",
      "2021-07-19 00:00:56,903 : INFO : PROGRESS: pass 6, at document #79433/79433\n",
      "2021-07-19 00:03:37,362 : INFO : optimized alpha [0.003484792, 0.0033358168, 0.0033774795, 0.0033336747, 0.003515711, 0.0035968954, 0.0035312204, 0.0033169098, 0.003410071, 0.0033559047, 0.0035771346, 0.0033491508, 0.0034376408, 0.003530791, 0.0033338827, 0.0033325288, 0.0034551122, 0.0035742235, 0.0037907576, 0.0034528014, 0.0033185175, 0.0034843395, 0.00343955, 0.0035873074, 0.003487087, 0.0032888122, 0.0034612543, 0.0033564598, 0.0033176092, 0.0033908219, 0.0033233636, 0.0033449559, 0.0034064166, 0.003288582, 0.0033045532, 0.0033566835, 0.00337814, 0.0036089215, 0.0036012183, 0.0038012837, 0.0032788545, 0.0035353703, 0.0035671184, 0.003476241, 0.0034378516, 0.0034494412, 0.0033151824, 0.0036426506, 0.00349471, 0.0034566594, 0.0033987383, 0.0033548104, 0.0032893382, 0.0033461766, 0.003331293, 0.0033822553, 0.00335407, 0.0033490905, 0.0032940926, 0.0033250542, 0.0033234886, 0.003432647, 0.0033602873, 0.0035001421, 0.003368902, 0.003467122, 0.0033869313, 0.003440958, 0.00330392, 0.0033045064, 0.0033527387, 0.0036752648, 0.0036489007, 0.0033456667, 0.0033518986, 0.003571264, 0.0034067463, 0.003351317, 0.0034195755, 0.0033085, 0.003582389, 0.0034163105, 0.0034178589, 0.0033925655, 0.0035689157, 0.0033398531, 0.0033465598, 0.0033442911, 0.0035651035, 0.0036285024, 0.0033821524, 0.003353942, 0.0033396692, 0.003408681, 0.0034254915, 0.0035464787, 0.0032849915, 0.0032726163, 0.003432517, 0.003349896, 0.0032959536, 0.0033882775, 0.0034139138, 0.0034343977, 0.0035889954, 0.003387734, 0.003383364, 0.0033685302, 0.0033855874, 0.0033707616, 0.0033737156, 0.0033813221, 0.003487942, 0.0035804277, 0.0035085643, 0.0033571564, 0.0034821655, 0.0035432582, 0.0034807804, 0.0035356805, 0.0033057027, 0.0034761566, 0.0033833112, 0.0033330957, 0.0034694665, 0.0034465087, 0.003324485, 0.003461189, 0.0034644727, 0.003400386, 0.0035203556, 0.003504855, 0.0036321792, 0.0033298116, 0.0033816653, 0.003670707, 0.0035499549, 0.0033622659, 0.0034270855, 0.0034784996, 0.0033339271, 0.0034561006, 0.0033580295, 0.0034773834, 0.0033891639, 0.0034205546, 0.0037089542, 0.0033799254, 0.0033984908, 0.003579764, 0.0036913757, 0.0033617162, 0.0036611967, 0.0033345148, 0.0033324044, 0.0033154176, 0.003394705, 0.003550229, 0.0034130216, 0.003409995, 0.0034313481, 0.0034481406, 0.0032786229, 0.0033966838, 0.003295971, 0.0033417093, 0.0034672543, 0.0034061128, 0.0034003728, 0.0033031793, 0.0033645723, 0.0034205068, 0.0034236857, 0.0034238338, 0.0034454695, 0.0033282756, 0.0033288249, 0.0033902912, 0.003391941, 0.0037820428, 0.003317268, 0.0033170595, 0.003448477, 0.0033386275, 0.0034720413, 0.003298751, 0.0035284895, 0.0035217695, 0.0035702358, 0.0035019773, 0.0033999032, 0.0033760008, 0.003525256, 0.0033756797, 0.0033842258, 0.0035789963, 0.00365408, 0.0033515324, 0.003313968, 0.0034295071, 0.0034269865, 0.0032970342, 0.003538702, 0.0033797699, 0.0033720112, 0.003308791, 0.00371229, 0.0033932703, 0.0034784337, 0.0034023693, 0.0034866545, 0.0033209517, 0.003589202, 0.003437044, 0.0033327905, 0.0032852052, 0.003422475, 0.0033484804, 0.0033200597, 0.0035143055, 0.0032850718, 0.0035200864, 0.0034938622, 0.003336322, 0.003326641, 0.003340862, 0.0034951763, 0.003420061, 0.0035053662, 0.0037026186, 0.0033683283, 0.003286256, 0.0033115079, 0.0033516362, 0.0032873794, 0.003292691, 0.003440562, 0.0036532828, 0.0035198806, 0.0034360925, 0.0033607532, 0.0037626424, 0.0034705226, 0.0033574465, 0.0035669894, 0.0033738136, 0.0035078733, 0.0033868072, 0.0034661004, 0.003480303, 0.003477218, 0.003332264, 0.0033371726, 0.0036613047, 0.0035050488, 0.0034990036, 0.003418723, 0.003486569, 0.0033974715, 0.00328284, 0.003412428, 0.0033681518, 0.0032932218, 0.003542315, 0.003555593, 0.0033782464, 0.0034198463, 0.0033555813, 0.0033620107, 0.003434926, 0.0035688076, 0.0035448314, 0.0034844708, 0.003389462, 0.003285541, 0.0033745032, 0.0033980045, 0.0034141373, 0.0033162322, 0.0036112217, 0.003573911, 0.0034301535, 0.0034418942, 0.003316798, 0.003323684, 0.003436653, 0.0036155472, 0.0034113443, 0.003428495]\n",
      "2021-07-19 00:03:37,424 : INFO : topic #58 (0.003): 0.183*\"prediction\" + 0.045*\"model\" + 0.040*\"privacy\" + 0.023*\"access\" + 0.023*\"adaptive\" + 0.017*\"control\" + 0.016*\"risk\" + 0.016*\"network\" + 0.014*\"information\" + 0.013*\"user\"\n",
      "2021-07-19 00:03:37,426 : INFO : topic #33 (0.003): 0.094*\"mechanism\" + 0.042*\"pay\" + 0.032*\"privacy\" + 0.019*\"account\" + 0.017*\"user\" + 0.014*\"preserving\" + 0.012*\"design\" + 0.009*\"competitive\" + 0.009*\"security\" + 0.008*\"problem\"\n",
      "2021-07-19 00:03:37,427 : INFO : topic #241 (0.004): 0.203*\"data\" + 0.073*\"big\" + 0.038*\"privacy\" + 0.017*\"analytics\" + 0.011*\"mining\" + 0.009*\"processing\" + 0.009*\"information\" + 0.008*\"paper\" + 0.008*\"personal\" + 0.008*\"challenge\"\n",
      "2021-07-19 00:03:37,428 : INFO : topic #18 (0.004): 0.076*\"online\" + 0.068*\"consumer\" + 0.030*\"commerce\" + 0.022*\"intention\" + 0.021*\"perceived\" + 0.020*\"privacy\" + 0.019*\"study\" + 0.018*\"internet\" + 0.015*\"website\" + 0.015*\"customer\"\n",
      "2021-07-19 00:03:37,429 : INFO : topic #179 (0.004): 0.179*\"cloud\" + 0.105*\"computing\" + 0.042*\"service\" + 0.036*\"security\" + 0.018*\"privacy\" + 0.015*\"data\" + 0.012*\"provider\" + 0.012*\"issue\" + 0.011*\"environment\" + 0.010*\"user\"\n",
      "2021-07-19 00:03:37,431 : INFO : topic diff=3.040688, rho=0.353553\n",
      "2021-07-19 00:07:04,437 : INFO : -6.675 per-word bound, 102.2 perplexity estimate based on a held-out corpus of 79433 documents with 7925243 words\n",
      "2021-07-19 00:07:04,438 : INFO : PROGRESS: pass 7, at document #79433/79433\n",
      "2021-07-19 00:09:56,185 : INFO : optimized alpha [0.003501335, 0.0033501375, 0.003397658, 0.0033370422, 0.0035490538, 0.0036586667, 0.0035667333, 0.003310149, 0.0034151995, 0.0033777247, 0.003612418, 0.0033662238, 0.0034623013, 0.0035890134, 0.0033578344, 0.0033284086, 0.0034676015, 0.0036109355, 0.0038604182, 0.003473316, 0.003300053, 0.0035259463, 0.003460938, 0.00361347, 0.0035072085, 0.003278356, 0.0034879015, 0.0033652529, 0.0033185391, 0.003404392, 0.0033138215, 0.0033530344, 0.0034227604, 0.003289747, 0.0032935308, 0.0033716946, 0.0033858381, 0.003640663, 0.003648974, 0.0038532317, 0.0032628956, 0.003564799, 0.0035787784, 0.003501697, 0.0034621584, 0.0034625744, 0.003314361, 0.003684437, 0.003511034, 0.0034718728, 0.0034018138, 0.0033663968, 0.0032838478, 0.0033645348, 0.003341306, 0.0033926964, 0.0033589199, 0.0033556714, 0.0032917524, 0.0033153058, 0.003304609, 0.0034706173, 0.0033803883, 0.0035189965, 0.00337939, 0.0034766751, 0.0033980953, 0.0034484772, 0.0032851563, 0.003293685, 0.0033540584, 0.0037458485, 0.0036805323, 0.0033444578, 0.0033571944, 0.0035872152, 0.0034094192, 0.003331823, 0.0034361747, 0.003308153, 0.0036765188, 0.0034293113, 0.0034537055, 0.0033924007, 0.0035978786, 0.0033322414, 0.0033616566, 0.0033577525, 0.0036344298, 0.0036860039, 0.0033963132, 0.0033799917, 0.003334371, 0.0034037845, 0.0034700718, 0.0036033844, 0.003266216, 0.003259768, 0.003457795, 0.003352064, 0.0032781065, 0.0034129429, 0.0034487504, 0.0034450656, 0.0036357776, 0.0033947006, 0.003390619, 0.0034005237, 0.003396666, 0.0033842777, 0.003399452, 0.0033868363, 0.0035328898, 0.0035916786, 0.0035489658, 0.003345727, 0.0035021217, 0.0035787064, 0.0035106833, 0.0035646486, 0.003286673, 0.0034887823, 0.0033825196, 0.0033192018, 0.0034899025, 0.0034669142, 0.0033249748, 0.0034734015, 0.003504124, 0.003414436, 0.003585234, 0.0035190627, 0.0036800941, 0.0033284961, 0.0033948056, 0.0037449184, 0.0035895158, 0.0033700883, 0.0034250685, 0.0034902364, 0.0033303346, 0.0034816342, 0.0033728243, 0.0034731864, 0.0033986142, 0.003442301, 0.0037684161, 0.0033988825, 0.00339647, 0.0036491454, 0.0037302629, 0.0033746976, 0.0037004128, 0.0033368974, 0.0033269124, 0.0033054696, 0.0033917837, 0.0036055194, 0.0034340152, 0.0034289719, 0.003438528, 0.0034747166, 0.0032606146, 0.0033971728, 0.0032803281, 0.0033472118, 0.0034898196, 0.003421356, 0.0034467303, 0.0032843768, 0.0033667374, 0.0034500884, 0.0034280042, 0.0034424285, 0.0034793029, 0.0033397756, 0.003321847, 0.003393244, 0.0034232603, 0.0038507755, 0.0033482173, 0.0032986323, 0.0034723426, 0.0033395134, 0.003500807, 0.003280427, 0.0035442729, 0.0035511046, 0.0036419132, 0.0035380856, 0.0034179846, 0.0033870153, 0.0035546916, 0.003369113, 0.0033919723, 0.003605725, 0.0036929224, 0.003366759, 0.0033174937, 0.0034481818, 0.0034536205, 0.0032792273, 0.0035895265, 0.003381182, 0.0033905688, 0.003294407, 0.0037492283, 0.0034015218, 0.003497161, 0.0034227956, 0.003500707, 0.003302356, 0.0036568332, 0.0034679659, 0.0033403612, 0.00326648, 0.0034217893, 0.0033455049, 0.0033015239, 0.003542008, 0.003266361, 0.003531632, 0.00352692, 0.0033463843, 0.0033386808, 0.0033505424, 0.0035200503, 0.003455517, 0.0035849644, 0.003722848, 0.003365996, 0.0032675692, 0.0033173137, 0.0033605772, 0.0032717735, 0.0032811682, 0.003452052, 0.0036976645, 0.0035501833, 0.003455422, 0.0033676282, 0.0038187841, 0.0034810463, 0.003374586, 0.0035954504, 0.0033876637, 0.0035347664, 0.0034016657, 0.0034886964, 0.0035080528, 0.0035044653, 0.0033434513, 0.003318518, 0.0037108248, 0.0035262299, 0.003532795, 0.0034421259, 0.003542372, 0.0034213823, 0.003264131, 0.0034467424, 0.0033625546, 0.0032962367, 0.0035744773, 0.0035798238, 0.0033898288, 0.0034306883, 0.0033687253, 0.0033928535, 0.0034667302, 0.0036017639, 0.0036129775, 0.003511663, 0.003386971, 0.003266976, 0.003384607, 0.0033963337, 0.0034324748, 0.0033188863, 0.003641342, 0.003602397, 0.0034533988, 0.0034469063, 0.0033049118, 0.0033067735, 0.0034664078, 0.0036527487, 0.003429072, 0.0034654327]\n"
     ]
    },
    {
     "name": "stderr",
     "output_type": "stream",
     "text": [
      "2021-07-19 00:09:56,244 : INFO : topic #215 (0.003): 0.033*\"security\" + 0.022*\"information\" + 0.022*\"privacy\" + 0.017*\"data\" + 0.011*\"system\" + 0.010*\"protection\" + 0.009*\"user\" + 0.009*\"based\" + 0.009*\"remote\" + 0.008*\"protocol\"\n",
      "2021-07-19 00:09:56,245 : INFO : topic #100 (0.003): 0.035*\"data\" + 0.017*\"blockchain\" + 0.014*\"security\" + 0.014*\"privacy\" + 0.012*\"application\" + 0.012*\"based\" + 0.012*\"content\" + 0.012*\"patient\" + 0.010*\"information\" + 0.009*\"system\"\n",
      "2021-07-19 00:09:56,246 : INFO : topic #179 (0.004): 0.187*\"cloud\" + 0.112*\"computing\" + 0.041*\"service\" + 0.036*\"security\" + 0.018*\"privacy\" + 0.014*\"data\" + 0.012*\"environment\" + 0.012*\"issue\" + 0.012*\"provider\" + 0.009*\"user\"\n",
      "2021-07-19 00:09:56,247 : INFO : topic #18 (0.004): 0.081*\"online\" + 0.074*\"consumer\" + 0.032*\"commerce\" + 0.023*\"intention\" + 0.022*\"perceived\" + 0.020*\"privacy\" + 0.019*\"study\" + 0.017*\"internet\" + 0.016*\"website\" + 0.014*\"customer\"\n",
      "2021-07-19 00:09:56,248 : INFO : topic #39 (0.004): 0.104*\"protocol\" + 0.049*\"secure\" + 0.044*\"party\" + 0.033*\"computation\" + 0.022*\"privacy\" + 0.016*\"two\" + 0.016*\"preserving\" + 0.015*\"multi\" + 0.012*\"security\" + 0.011*\"efficient\"\n",
      "2021-07-19 00:09:56,250 : INFO : topic diff=3.517923, rho=0.333333\n",
      "2021-07-19 00:13:20,486 : INFO : -6.668 per-word bound, 101.7 perplexity estimate based on a held-out corpus of 79433 documents with 7925243 words\n",
      "2021-07-19 00:13:20,487 : INFO : PROGRESS: pass 8, at document #79433/79433\n",
      "2021-07-19 00:15:52,255 : INFO : optimized alpha [0.003517664, 0.0033677449, 0.0034209888, 0.0033416862, 0.0035855114, 0.003724324, 0.003602828, 0.0033037567, 0.0034230673, 0.003408781, 0.0036485235, 0.0033878598, 0.0034873541, 0.0036510515, 0.003392003, 0.00332567, 0.0034842344, 0.0036472217, 0.003929913, 0.0034961184, 0.0032825982, 0.0035705369, 0.0034855416, 0.0036385437, 0.0035274988, 0.0032690263, 0.003515579, 0.003379923, 0.0033236598, 0.0034200114, 0.0033066822, 0.003362303, 0.0034420392, 0.0033122185, 0.0032872378, 0.0033991844, 0.0033952042, 0.003670967, 0.0036979024, 0.0039018842, 0.0032506506, 0.0035968279, 0.003588006, 0.0035281456, 0.0034866047, 0.0034780437, 0.0033209592, 0.0037278226, 0.0035273996, 0.003490278, 0.003404553, 0.003381346, 0.0032819666, 0.003389713, 0.0033571825, 0.0034039847, 0.0033672163, 0.0033648787, 0.0032948279, 0.0033105072, 0.0032866593, 0.003514666, 0.0034103985, 0.0035364204, 0.0033910444, 0.003487356, 0.003409128, 0.0034567027, 0.0032675923, 0.0032840553, 0.0033593995, 0.0038184277, 0.0037118166, 0.0033436895, 0.0033645388, 0.003603101, 0.0034129343, 0.0033138061, 0.0034563392, 0.0033144301, 0.003778167, 0.0034480768, 0.0034937405, 0.0033917874, 0.00363213, 0.003326066, 0.0033815077, 0.003375791, 0.0037101526, 0.003743762, 0.0034144924, 0.0034108025, 0.003330634, 0.0033992366, 0.0035221044, 0.0036637515, 0.0032488606, 0.0032493295, 0.0034820251, 0.003360943, 0.003261745, 0.0034411026, 0.0034890587, 0.0034576014, 0.0036857217, 0.0034015833, 0.0033990208, 0.0034407442, 0.0034072448, 0.0033990215, 0.003428065, 0.003394104, 0.0035809656, 0.0036012074, 0.003591528, 0.0033346778, 0.0035228739, 0.0036208131, 0.0035426542, 0.003593552, 0.0032690133, 0.003502888, 0.0033823655, 0.0033074387, 0.0035101753, 0.003489931, 0.0033281753, 0.003489143, 0.0035469597, 0.0034295109, 0.0036577627, 0.003534607, 0.003727571, 0.0033299928, 0.0034099275, 0.0038226685, 0.003631081, 0.0033803172, 0.0034233609, 0.0035010474, 0.0033269878, 0.003505369, 0.0033892859, 0.003470844, 0.0034110376, 0.003465481, 0.0038296443, 0.0034205727, 0.0033984021, 0.003723453, 0.0037698061, 0.0033907527, 0.0037376436, 0.003343645, 0.003323956, 0.0032959362, 0.003390159, 0.0036668542, 0.0034558673, 0.0034517106, 0.0034463955, 0.003502548, 0.0032434189, 0.0033969905, 0.0032684703, 0.003360842, 0.003513509, 0.0034400178, 0.003502073, 0.0032666211, 0.0033704892, 0.0034869933, 0.0034327828, 0.0034606897, 0.0035172885, 0.0033609618, 0.0033225205, 0.0033963113, 0.003462099, 0.003919866, 0.0033870572, 0.003281293, 0.0034975195, 0.0033416094, 0.0035327398, 0.0032629657, 0.0035618364, 0.0035797004, 0.0037244395, 0.0035771006, 0.0034383016, 0.003398518, 0.0035864846, 0.0033642924, 0.0034004976, 0.0036294702, 0.0037295783, 0.0033860435, 0.0033253494, 0.0034693433, 0.0034841825, 0.0032626532, 0.003642036, 0.0033863191, 0.0034282194, 0.0032852138, 0.0037842207, 0.0034120523, 0.0035230562, 0.003444533, 0.0035144328, 0.003284631, 0.0037295965, 0.003500348, 0.0033501873, 0.0032492776, 0.0034213387, 0.0033440418, 0.0032838995, 0.0035705508, 0.0032490706, 0.0035416298, 0.003564641, 0.003359122, 0.0033568474, 0.003369489, 0.0035497197, 0.0034952827, 0.0036729686, 0.003740976, 0.0033653597, 0.0032503856, 0.0033284654, 0.0033730627, 0.0032598202, 0.0032703453, 0.003466189, 0.003740689, 0.0035838538, 0.003477237, 0.0033752397, 0.0038726362, 0.003493713, 0.00339683, 0.00362653, 0.0034046834, 0.0035621673, 0.0034198142, 0.0035153818, 0.0035348278, 0.0035319338, 0.0033596826, 0.0033010864, 0.0037624696, 0.003549623, 0.0035703017, 0.0034668038, 0.0036020132, 0.0034496216, 0.0032466094, 0.0034904047, 0.0033577175, 0.003302404, 0.0036101171, 0.0036038093, 0.0034068665, 0.0034441957, 0.0033830071, 0.0034302517, 0.0035017568, 0.0036356023, 0.0036863484, 0.0035388167, 0.0033845098, 0.0032499947, 0.0033975386, 0.0033943518, 0.0034544049, 0.0033223974, 0.0036694312, 0.0036279075, 0.0034792076, 0.0034523886, 0.0032949492, 0.0032912432, 0.0034978983, 0.0036884146, 0.0034471191, 0.0035063606]\n",
      "2021-07-19 00:15:52,316 : INFO : topic #215 (0.003): 0.034*\"security\" + 0.025*\"information\" + 0.021*\"privacy\" + 0.016*\"data\" + 0.012*\"system\" + 0.011*\"remote\" + 0.010*\"user\" + 0.010*\"protection\" + 0.009*\"based\" + 0.008*\"paper\"\n",
      "2021-07-19 00:15:52,317 : INFO : topic #220 (0.003): 0.056*\"information\" + 0.029*\"privacy\" + 0.013*\"system\" + 0.011*\"data\" + 0.011*\"based\" + 0.010*\"user\" + 0.009*\"service\" + 0.008*\"security\" + 0.007*\"paper\" + 0.006*\"intelligent\"\n",
      "2021-07-19 00:15:52,318 : INFO : topic #179 (0.004): 0.193*\"cloud\" + 0.119*\"computing\" + 0.039*\"service\" + 0.035*\"security\" + 0.018*\"privacy\" + 0.014*\"data\" + 0.012*\"environment\" + 0.012*\"issue\" + 0.012*\"provider\" + 0.009*\"user\"\n",
      "2021-07-19 00:15:52,319 : INFO : topic #39 (0.004): 0.107*\"protocol\" + 0.052*\"secure\" + 0.047*\"party\" + 0.033*\"computation\" + 0.022*\"privacy\" + 0.018*\"two\" + 0.016*\"preserving\" + 0.015*\"multi\" + 0.012*\"security\" + 0.011*\"efficient\"\n",
      "2021-07-19 00:15:52,320 : INFO : topic #241 (0.004): 0.220*\"data\" + 0.084*\"big\" + 0.036*\"privacy\" + 0.020*\"analytics\" + 0.010*\"processing\" + 0.009*\"mining\" + 0.008*\"paper\" + 0.008*\"challenge\" + 0.008*\"information\" + 0.007*\"personal\"\n",
      "2021-07-19 00:15:52,322 : INFO : topic diff=3.991177, rho=0.316228\n"
     ]
    }
   ],
   "source": [
    "k = [1, 4, 9, 16, 25, 36, 49, 64, 81, 100, 121, 144, 169, 196, 225, 256, 289, 324, 361] #later added [30, 40, 42]\n",
    "random_states = [24, 1024] #later added [27, 1027]\n",
    "\n",
    "texts = df[\"data_preprocessed\"]\n",
    "chunksize = ceil(len(texts))\n",
    "passes = 20\n",
    "iterations = 100\n",
    "eval_every = None\n",
    "dir_prior = 'auto'\n",
    "\n",
    "for random_state in random_states:\n",
    "    for num_topics in k:\n",
    "        \n",
    "        name = \"rs{}k{}\".format(random_state, num_topics)\n",
    "        \n",
    "        \n",
    "        if 'model_' + name in os.listdir('models'):\n",
    "            print(datetime.datetime.now().strftime('%H:%M:%S') + ' Model ' + name + ' already in directory. Skipped')\n",
    "        \n",
    "        else:\n",
    "            print(datetime.datetime.now().strftime('%H:%M:%S') + \" Building model \" + name)\n",
    "            lda_model = gensim.models.LdaModel(corpus, num_topics=num_topics, id2word=dictionary, alpha=dir_prior, eta=dir_prior, random_state=random_state, chunksize=chunksize, passes=passes, iterations=iterations)\n",
    "\n",
    "            lda_model.save(os.path.join('models', 'model_' + name))"
   ]
  },
  {
   "cell_type": "markdown",
   "metadata": {},
   "source": [
    "Evaluate all models present in the current directory"
   ]
  },
  {
   "cell_type": "code",
   "execution_count": null,
   "metadata": {
    "scrolled": true
   },
   "outputs": [],
   "source": [
    "models_to_evaluate = []\n",
    "\n",
    "for entry in os.scandir('models'):\n",
    "    if entry.path.endswith('.state'):\n",
    "        models_to_evaluate.append(entry.path[:-6])\n",
    "        \n",
    "for path in models_to_evaluate:\n",
    "    model = gensim.models.LdaModel.load(path)\n",
    "    coherence_model_lda = gensim.models.coherencemodel.CoherenceModel(model=model, texts=texts, dictionary=dictionary, coherence='c_v')\n",
    "    coherence = coherence_model_lda.get_coherence()\n",
    "        \n",
    "    with open(os.path.join('models', 'scores.txt'), \"a\") as f:\n",
    "        f.write(\"\\\"\" + str(os.path.split(path)[1]) + \"\\\"\" ' : ' + str(coherence) + ',\\n')   "
   ]
  },
  {
   "cell_type": "markdown",
   "metadata": {},
   "source": [
    "Save the preprocessed data, corpus and dictionary for later exploration  "
   ]
  },
  {
   "cell_type": "code",
   "execution_count": null,
   "metadata": {},
   "outputs": [],
   "source": [
    "df.to_csv('data/data_for_interpretation.csv')\n",
    "\n",
    "with open('models/corpus.pkl', 'wb') as f:\n",
    "    pickle.dump(corpus, f)\n",
    "    \n",
    "dictionary.save('models/dictionary')"
   ]
  }
 ],
 "metadata": {
  "colab": {
   "authorship_tag": "ABX9TyOp+BISxaCQJk/X2OSJaTWP",
   "collapsed_sections": [],
   "include_colab_link": true,
   "mount_file_id": "1D4ZE74ez76G3KnQhaa4vLdv8vQLh3Yz8",
   "name": "Untitled0.ipynb",
   "provenance": []
  },
  "kernelspec": {
   "display_name": "Python 3",
   "language": "python",
   "name": "python3"
  },
  "language_info": {
   "codemirror_mode": {
    "name": "ipython",
    "version": 3
   },
   "file_extension": ".py",
   "mimetype": "text/x-python",
   "name": "python",
   "nbconvert_exporter": "python",
   "pygments_lexer": "ipython3",
   "version": "3.8.2"
  }
 },
 "nbformat": 4,
 "nbformat_minor": 1
}
